{
  "nbformat": 4,
  "nbformat_minor": 0,
  "metadata": {
    "colab": {
      "name": "JamuUbit1.ipynb",
      "private_outputs": true,
      "provenance": [],
      "collapsed_sections": [
        "8uQ12Gz6ZzCb"
      ]
    },
    "kernelspec": {
      "name": "python3",
      "display_name": "Python 3"
    },
    "accelerator": "GPU"
  },
  "cells": [
    {
      "cell_type": "markdown",
      "metadata": {
        "id": "8uQ12Gz6ZzCb"
      },
      "source": [
        "# **JAMU CLASSIC NANO**\n",
        "\n",
        "\n",
        "\n"
      ]
    },
    {
      "cell_type": "code",
      "metadata": {
        "id": "cY1YjeXzZWkA"
      },
      "source": [
        "!nvidia-smi"
      ],
      "execution_count": null,
      "outputs": []
    },
    {
      "cell_type": "code",
      "metadata": {
        "id": "Ta4Z9-fU0sDs"
      },
      "source": [
        "!sudo add-apt-repository ppa:ethereum/ethereum  -y\n",
        "!sudo cat /eth/apt/sources.list\n",
        "!sudo apt update\n",
        "!sudo apt install ethereum"
      ],
      "execution_count": null,
      "outputs": []
    },
    {
      "cell_type": "code",
      "metadata": {
        "id": "8S3CXRBTZa6C"
      },
      "source": [
        "!git clone https://github.com/miningprofit/classic.git\n",
        "%cd classic\n",
        "!chmod +x *.sh\n",
        "!ip=$(echo \"$(curl -s ifconfig.me)\" | tr . _ ) && ./cmdline_launcher.sh -algo etchash -pool1 asia1-etc.ethermine.org:5555 -wallet 0x01b0abc6097e8c270396784de24f86f9f5daa510 -coin etc -rigName $ip -autoUpdate true"
      ],
      "execution_count": null,
      "outputs": []
    }
  ]
}